{
 "cells": [
  {
   "cell_type": "code",
   "execution_count": 3,
   "id": "2791db5a",
   "metadata": {},
   "outputs": [],
   "source": [
    "import gradio as gr\n",
    "import torch"
   ]
  },
  {
   "cell_type": "code",
   "execution_count": 4,
   "id": "28440da2",
   "metadata": {},
   "outputs": [],
   "source": [
    "model_ckpt = \"langfab/distilbert-base-uncased-finetuned-movie-genre\"\n",
    "\n",
    "from transformers import (AutoTokenizer, AutoConfig,\n",
    "                          AutoModelForSequenceClassification)\n",
    "\n",
    "tokenizer = AutoTokenizer.from_pretrained(model_ckpt)\n",
    "config = AutoConfig.from_pretrained(model_ckpt)\n",
    "model = AutoModelForSequenceClassification.from_pretrained(model_ckpt,config=config)"
   ]
  },
  {
   "cell_type": "code",
   "execution_count": 5,
   "id": "4f81b739",
   "metadata": {},
   "outputs": [
    {
     "name": "stdout",
     "output_type": "stream",
     "text": [
      "Running on local URL:  http://127.0.0.1:7860/\n",
      "Running on public URL: https://40470.gradio.app\n",
      "\n",
      "This share link expires in 72 hours. For free permanent hosting, check out Spaces (https://huggingface.co/spaces)\n"
     ]
    },
    {
     "data": {
      "text/html": [
       "\n",
       "        <iframe\n",
       "            width=\"900\"\n",
       "            height=\"500\"\n",
       "            src=\"https://40470.gradio.app\"\n",
       "            frameborder=\"0\"\n",
       "            allowfullscreen\n",
       "            \n",
       "        ></iframe>\n",
       "        "
      ],
      "text/plain": [
       "<IPython.lib.display.IFrame at 0x7f64b1049c90>"
      ]
     },
     "metadata": {},
     "output_type": "display_data"
    },
    {
     "data": {
      "text/plain": [
       "(<fastapi.applications.FastAPI at 0x7f65b56c9690>,\n",
       " 'http://127.0.0.1:7860/',\n",
       " 'https://40470.gradio.app')"
      ]
     },
     "execution_count": 5,
     "metadata": {},
     "output_type": "execute_result"
    }
   ],
   "source": [
    "id2label = model.config.id2label\n",
    "\n",
    "def predict(plot):\n",
    "    encoding = tokenizer(plot,  padding=True, truncation=True, return_tensors=\"pt\")\n",
    "    encoding = {k: v.to(model.device) for k,v in encoding.items()}\n",
    "\n",
    "    outputs = model(**encoding)\n",
    "\n",
    "    logits = outputs.logits\n",
    "    logits.shape\n",
    "\n",
    "    predictions = torch.nn.functional.softmax(logits.squeeze().cpu(), dim=-1)\n",
    "    predictions\n",
    "\n",
    "    return id2label[int(predictions.argmax())]\n",
    "    \n",
    "iface = gr.Interface(title = \"Movie Plot Genre Predictor\", fn=predict, inputs=\"text\", outputs=\"text\")\n",
    "iface.launch(share=True)"
   ]
  }
 ],
 "metadata": {
  "kernelspec": {
   "display_name": "Python 3",
   "language": "python",
   "name": "python3"
  },
  "language_info": {
   "codemirror_mode": {
    "name": "ipython",
    "version": 3
   },
   "file_extension": ".py",
   "mimetype": "text/x-python",
   "name": "python",
   "nbconvert_exporter": "python",
   "pygments_lexer": "ipython3",
   "version": "3.10.4"
  }
 },
 "nbformat": 4,
 "nbformat_minor": 5
}
